{
 "cells": [
  {
   "cell_type": "markdown",
   "metadata": {},
   "source": [
    "## Implementation of hash table data structure\n",
    "We used Python implementation of dictionaries to store information about airports, currency and aircrafts.\n",
    "This notebook analyses two implementations of hash tables and compares their performances against the Python intergrated data structure "
   ]
  },
  {
   "cell_type": "markdown",
   "metadata": {},
   "source": [
    "### Why Hash Tables?\n",
    "\n",
    "The main idea at the heart of the hash table data structure is that it allows users to assign keys to elements and then use those keys later to look up or remove elements. Its main feature is to save items in a key-indexed table, where the index is a function of the key.\n",
    "\n",
    "The data structure needed for our purpose require a dynamic set that supports only the operations of <b> INSERT, SEARCH, DELETE</b>.\n",
    "\n",
    "Although searching for an element in a hash table can take as long as searching for an element in a linked list —$\\mathcal{O}(n)$ time in the worst case — in practice, hashing performs extremely well. Under reasonable assumptions, the average time to search for an element in a hash table is $\\mathcal{O}(1)$.\n",
    "\n",
    "A hash table generalizes the simpler notion of an ordinary array. Directly addressing into an ordinary array makes effective use of our ability to examine an arbitrary position in an array in $\\mathcal{O}(1)$ time.\n",
    "\n",
    "We can take advantage of <b>direct addressing</b> when we can afford to allocate an array that has one position for every possible key. \n",
    "\n",
    "A hash table typically uses an array of size proportional to the number of keys actually stored. Instead of using the key as an array index directly, the array index is computed from the key."
   ]
  },
  {
   "cell_type": "markdown",
   "metadata": {},
   "source": [
    "### Hash Function\n",
    "\n",
    "Hash Function: method for computing array index from a key.\n",
    "\n",
    "With direct addressing, an element with key $k$ is stored in slot $k$. With hashing, this element is stored in slot $h(k)$; that is, we use a hash function $h$ to compute the slot from the key $k$. \n",
    "We also say that $h(k)$ is the hash value of key $k$. \n",
    "\n",
    "The hash function reduces the range of array indices and hence the size of the array. \n",
    "\n",
    "There are three main requirements in implementing a <b>good hash function</b> for a given data type: \n",
    "- It should be <b>consistent</b>—equal keys must produce the same hash value. \n",
    "- It should be <b>efficient</b> to compute. \n",
    "- It should <b>uniformly distribute the keys</b>. \n",
    "\n",
    "A good approach derives the hash value in a way that we expect to be independent of any patterns that might exist in the data. For example, the <b><i>“division method”</i></b> computes the hash value as the remainder when the key is divided by a specified prime number. \n",
    "\n",
    "This method frequently gives good results, assuming that we choose a prime number that is unrelated to any patterns in the distribution of keys. \n",
    "\n",
    "Most hash functions assume that the keys are represented by natural numbers. Thus, if the keys are not natural numbers, we find a way to interpret them as natural numbers.\n",
    "\n",
    "In the division method for creating hash functions, we map a key $k$ into one of $m$ slots (size of the array) by taking the remainder of $k$ divided by $m$. That is, the hash function is:\n",
    "\n",
    "$$h(k)=k\\mod m$$\n",
    "\n",
    "In our example the keys are not represented with numbers but with strings of character and digits. We will therefore compute the keys as a sequence of ordinal values."
   ]
  },
  {
   "cell_type": "markdown",
   "metadata": {},
   "source": [
    "### Collision resolution\n",
    "The main issue that is related to this data structure is that two keys may hash to the same slot. We call this situation a collision. \n",
    "\n",
    "\n",
    "#### Separate Chaining Symbol Table \n",
    "\n",
    "A straightforward and general approach to collision resolution is to build, for each of the $M$ array indices, a linked list of the key-value pairs whose keys hash to that index. \n",
    "This method is known as separate chaining because items that collide are chained together in separate linked lists. \n",
    "\n",
    "The basic idea is to choose $M$ to be sufficiently large that the lists are sufficiently short to enable efficient search through a two-step process: hash to find the list that could contain the key, then sequentially search through that list for the key. \n",
    "\n",
    "Since we have $M$ lists and $N$ keys, the average length of the lists is always $N/M$, no matter how the keys are distributed among the lists. \n",
    "Typical choice: $M ∼ N/4$ \n",
    "\n",
    "In a separate-chaining implementation, our goal is to choose the table size $M$ to be sufficiently small that we do not waste a huge area of contiguous memory with empty chains but sufficiently large that we do not waste time searching through long chains.\n",
    "\n",
    "#### Linear Probing \n",
    "\n",
    "Another approach to implementing hashing is to store $N$ key-value pairs in a hash table of size $M > N$, relying on empty entries in the table to help with collision resolution. \n",
    "\n",
    "The simplest open-addressing method is called linear probing: when there is a collision (when we hash to a table index that is already occupied with a key different from the search key), then we just check the next entry in the table (by incrementing the index). \n",
    "\n",
    "We hash the key to a table index, check whether the search key matches the key there, and continue (incrementing the index, wrapping back to the beginning of the table if we reach the end) until finding either the search key or an empty table entry. "
   ]
  },
  {
   "cell_type": "markdown",
   "metadata": {},
   "source": [
    "### The implementation of has tables will be tested based on the 'airport.csv' that was given as part of the project documentation since it represents the larger amount of data and hence were a performance analysis could be more meaningful"
   ]
  },
  {
   "cell_type": "markdown",
   "metadata": {},
   "source": [
    "### We are first going to implement linear probing as a collision resolution method.\n",
    "\n",
    "we use two lists to create a HashTableLinear class that implements the symbol table ADT that uses linear probing. \n",
    "\n",
    "One list, called slots, will hold the key items and a parallel list, called data, will hold the data values. When we look up a key, the corresponding position in the data list will hold the associated data value. \n",
    "\n",
    "We decide to test this implementation on larger csv file, the airport.csv file, the file contains 5835 entries and, in order to perform linear probing, the size of the table has to be greater than the amount of key-value pairs sotred.\n",
    "\n",
    "It is important that the size is a prime number so that the collision resolution algorithm can be as efficient as possible. Therefore, we set the the size of the table to be 5839, which is greater than 5835 and the closest prime number. "
   ]
  },
  {
   "cell_type": "code",
   "execution_count": 1,
   "metadata": {},
   "outputs": [],
   "source": [
    "import csv \n",
    "import unittest\n",
    "import sys\n",
    "from pympler import asizeof #tool to measure the memory behavior of Python objects"
   ]
  },
  {
   "cell_type": "code",
   "execution_count": 2,
   "metadata": {},
   "outputs": [],
   "source": [
    "class HashTableLinear():\n",
    "\n",
    "    def __init__(self, size):\n",
    "        ''' this method initialize the hash table with 2 lists of a given size'''\n",
    "        self.size = size\n",
    "        self.slots = [None] * self.size\n",
    "        self.data = [None] * self.size\n",
    "    \n",
    "    def show(self):\n",
    "        '''shows the 2 lists'''\n",
    "        print(self.slots)\n",
    "        print(self.data)\n",
    "    \n",
    "    def is_full(self):\n",
    "        '''returns True if table is full'''\n",
    "        for elem in self.slots:\n",
    "            if elem == None:\n",
    "                return False\n",
    "        return True\n",
    "        \n",
    "    def hashfunction(self, key, size):\n",
    "        '''this function computes the hash value given a key and table size. The function transform \n",
    "        into numerical keys that are not integers. Moreover, each position has a different value, this avoids \n",
    "        key with same characters in different orders to be given the same hash value. (ABC will be evaluated\n",
    "        differently than CBA)'''\n",
    "        if type(key) != int:\n",
    "            string = ''.join(key)\n",
    "            sum = 0\n",
    "            for i, ch in enumerate(string):\n",
    "                sum +=  ord(ch) * (i+1)\n",
    "            key = sum\n",
    "\n",
    "        return key%size\n",
    "        \n",
    "    def put(self,key,data):\n",
    "        '''this function inserts a new key-value pair'''\n",
    "        #compute hash value\n",
    "        hashvalue = self.hashfunction(key,len(self.slots))\n",
    "        #add key value if slot is empty\n",
    "        if self.slots[hashvalue] == None:\n",
    "            self.slots[hashvalue] = key\n",
    "            self.data[hashvalue] = data\n",
    "        else:\n",
    "            #replace value is key is already stored\n",
    "            if self.slots[hashvalue] == key:\n",
    "                self.data[hashvalue] = data  \n",
    "            #check if hashtable is full\n",
    "            elif self.is_full() == True:\n",
    "                print ('Error! Hash Table is full')\n",
    "            else:\n",
    "                #if current slot is occupied keep searching until an empty is found\n",
    "                nextslot = hashvalue\n",
    "                for i in range (len(self.slots)):\n",
    "                    #keep looking cyclically \n",
    "                    nextslot = (nextslot + 1) % len(self.slots)\n",
    "                    #once empty slot is found, fill it end exit\n",
    "                    if self.slots[nextslot] == None:\n",
    "                        self.slots[nextslot]=key\n",
    "                        self.data[nextslot]=data\n",
    "                        break\n",
    "          \n",
    "    def get(self,key):\n",
    "        '''this function return the value from a given key, returns False if the key is not in the table'''\n",
    "        #compute hash value\n",
    "        startslot = self.hashfunction(key,len(self.slots))\n",
    "        #set searching conditions\n",
    "        data = False\n",
    "        stop = False\n",
    "        found = False\n",
    "        #start looking at hash value\n",
    "        self.position = startslot\n",
    "        #iterate through the table\n",
    "        while self.slots[self.position] != None and not found and not stop:\n",
    "            #if key found extract value\n",
    "            if self.slots[self.position] == key:\n",
    "                found = True\n",
    "                data = self.data[self.position]\n",
    "            else:\n",
    "                #else look in the next position\n",
    "                self.position=(self.position + 1)%len(self.slots)\n",
    "                #if we are back to the initial hash value means that there is no key=value\n",
    "                if self.position == startslot:\n",
    "                       stop = True\n",
    "        #returns False if nothing was found, else the value\n",
    "        return data\n",
    "\n",
    "    def delete(self, key):\n",
    "        '''this method deletes a key-value pair and rehashes the table. When deleting in linear probing, \n",
    "        the entries added after the removed key must be replaced in order to enable search with hashvalue. \n",
    "        The algorithm is as follows:\n",
    "            1-Find and remove the desired element\n",
    "            2-Go to the next bucket\n",
    "            3-If the bucket is empty, quit\n",
    "            4-If the bucket is full, delete the element in that bucket and re-add it to the hash \n",
    "                table using the normal means. The item must be removed before re-adding, \n",
    "                because it is likely that the item could be added back into its original spot.\n",
    "            5-Repeat step 2.'''\n",
    "        #check if there is something to delete\n",
    "        if self.get(key) == False:\n",
    "            print('Error! no value for this key')\n",
    "        else:\n",
    "            #use the get method position so set key-value to None\n",
    "            self.slots[self.position] = None\n",
    "            self.data[self.position] = None\n",
    "            #rehash the elements at greater indexes \n",
    "            i = 1\n",
    "            while self.position+i < len(self.slots):\n",
    "                if self.slots[self.position+i] == None:\n",
    "                    break\n",
    "                else:\n",
    "                    temp_key = self.slots[self.position+i]\n",
    "                    temp_value = self.data[self.position+i]\n",
    "                    self.slots[self.position+i] = None\n",
    "                    self.data[self.position+i] = None\n",
    "                    self.put(temp_key, temp_value)\n",
    "                i+=1\n",
    "    "
   ]
  },
  {
   "cell_type": "code",
   "execution_count": 3,
   "metadata": {},
   "outputs": [
    {
     "name": "stdout",
     "output_type": "stream",
     "text": [
      "[None, None, None, None, None]\n",
      "[None, None, None, None, None]\n"
     ]
    }
   ],
   "source": [
    "MyHash = HashTableLinear(5)\n",
    "MyHash.show()"
   ]
  },
  {
   "cell_type": "code",
   "execution_count": 4,
   "metadata": {},
   "outputs": [
    {
     "name": "stdout",
     "output_type": "stream",
     "text": [
      "['AEO', 'UUU', 'AEI', 'ZZZ', 'AAA']\n",
      "['123', '345', 'sadf', 'NEW', 'z']\n"
     ]
    }
   ],
   "source": [
    "MyHash.put('AEI', 'sadf')\n",
    "MyHash.put('AEO', '123')\n",
    "MyHash.put('UUU', '345')\n",
    "MyHash.put('ZZZ', 'NEW')\n",
    "MyHash.put('AAA', 'z')\n",
    "\n",
    "MyHash.show()"
   ]
  },
  {
   "cell_type": "code",
   "execution_count": 5,
   "metadata": {},
   "outputs": [
    {
     "data": {
      "text/plain": [
       "'z'"
      ]
     },
     "execution_count": 5,
     "metadata": {},
     "output_type": "execute_result"
    }
   ],
   "source": [
    "MyHash.get('AAA')"
   ]
  },
  {
   "cell_type": "code",
   "execution_count": 6,
   "metadata": {},
   "outputs": [
    {
     "name": "stdout",
     "output_type": "stream",
     "text": [
      "['AEO', 'ZZZ', 'AEI', 'AAA', None]\n",
      "['123', 'NEW', 'sadf', 'z', None]\n"
     ]
    }
   ],
   "source": [
    "MyHash.delete('UUU')\n",
    "MyHash.show()"
   ]
  },
  {
   "cell_type": "markdown",
   "metadata": {},
   "source": [
    "## Testing the implementation correct functionality against Python dictionary"
   ]
  },
  {
   "cell_type": "code",
   "execution_count": 7,
   "metadata": {},
   "outputs": [
    {
     "name": "stderr",
     "output_type": "stream",
     "text": [
      "test_delete_MyHash (__main__.test_MyHash) ... ok\n",
      "test_delete_Python (__main__.test_MyHash) ... ok\n",
      "test_get_MyHash (__main__.test_MyHash) ... ok\n",
      "test_get_Python (__main__.test_MyHash) ... ok\n",
      "test_put_MyHash (__main__.test_MyHash) ... ok\n",
      "test_put_Python (__main__.test_MyHash) ... ok\n",
      "\n",
      "----------------------------------------------------------------------\n",
      "Ran 6 tests in 0.005s\n",
      "\n",
      "OK\n"
     ]
    },
    {
     "data": {
      "text/plain": [
       "<unittest.main.TestProgram at 0x106174f98>"
      ]
     },
     "execution_count": 7,
     "metadata": {},
     "output_type": "execute_result"
    }
   ],
   "source": [
    "keys = [23, 9, 32, 88, 12]\n",
    "values = ['a', 'O', 'k', 'P', 'z']\n",
    "\n",
    "Python_dict = {}\n",
    "MyHash = HashTableLinear(5)\n",
    "\n",
    "class test_MyHash(unittest.TestCase):\n",
    "    \n",
    "    def test_put_Python(self):\n",
    "        Python_dict[23]='a'\n",
    "        Python_dict[9] = 'O'\n",
    "        self.assertIn(23, Python_dict)\n",
    "        self.assertIn(9, Python_dict)\n",
    "    \n",
    "    def test_put_MyHash(self):\n",
    "        MyHash.put(23, 'a')\n",
    "        MyHash.put(9,'O')\n",
    "        self.assertIn(23, MyHash.slots)\n",
    "        self.assertIn(9, MyHash.slots)\n",
    "        self.assertIn('a', MyHash.data)\n",
    "        self.assertIn('O', MyHash.data)\n",
    "\n",
    "    def test_get_Python(self):\n",
    "        Python_dict[23]='a'\n",
    "        self.assertEqual(Python_dict[23], 'a')\n",
    "    \n",
    "    def test_get_MyHash(self):\n",
    "        MyHash.put(32, 'k')\n",
    "        MyHash.put(88,'P')\n",
    "        self.assertEqual(MyHash.get(32), 'k')\n",
    "        self.assertEqual(MyHash.get(88), 'P')\n",
    "\n",
    "    def test_delete_Python(self):\n",
    "        Python_dict[12]='z'\n",
    "        del Python_dict[12]\n",
    "        self.assertNotIn(12, Python_dict)\n",
    "        \n",
    "    def test_delete_MyHash(self):\n",
    "        MyHash.put(12,'z')\n",
    "        self.assertIn(12, MyHash.slots)\n",
    "        self.assertIn('z', MyHash.data)\n",
    "        MyHash.delete(12)\n",
    "        self.assertNotIn(12, MyHash.slots)\n",
    "        self.assertNotIn('z', MyHash.data) \n",
    "        \n",
    "    \n",
    "unittest.main(argv=[''], verbosity=2, exit=False)"
   ]
  },
  {
   "cell_type": "markdown",
   "metadata": {},
   "source": [
    "## After confirming that the implementation works correctly, we can test its performances\n",
    "### testing insertion time"
   ]
  },
  {
   "cell_type": "code",
   "execution_count": 8,
   "metadata": {},
   "outputs": [
    {
     "name": "stdout",
     "output_type": "stream",
     "text": [
      "CPU times: user 4 µs, sys: 1 µs, total: 5 µs\n",
      "Wall time: 8.11 µs\n"
     ]
    }
   ],
   "source": [
    "%%time\n",
    "#insert one element\n",
    "python_dict_airports = {}\n",
    "python_dict_airports[123] = 'ABC'"
   ]
  },
  {
   "cell_type": "code",
   "execution_count": 9,
   "metadata": {},
   "outputs": [
    {
     "name": "stdout",
     "output_type": "stream",
     "text": [
      "CPU times: user 10 µs, sys: 0 ns, total: 10 µs\n",
      "Wall time: 14.8 µs\n"
     ]
    }
   ],
   "source": [
    "%%time\n",
    "#add only 1 element\n",
    "myHash_dict_airports = HashTableLinear(10)\n",
    "myHash_dict_airports.put(123, 'ABC')"
   ]
  },
  {
   "cell_type": "code",
   "execution_count": 10,
   "metadata": {},
   "outputs": [
    {
     "name": "stdout",
     "output_type": "stream",
     "text": [
      "CPU times: user 15 ms, sys: 2.59 ms, total: 17.5 ms\n",
      "Wall time: 16.6 ms\n"
     ]
    }
   ],
   "source": [
    "%%time\n",
    "#import all elements from csv\n",
    "python_dict_airports = {} \n",
    "\n",
    "def load_airports_pyDict(file):\n",
    "    '''loads airports info from file'''\n",
    "    with open(file, 'r') as csvFile:\n",
    "        reader = csv.reader(csvFile)\n",
    "        for row in reader:\n",
    "            python_dict_airports[row[4]] = (row[2], row[3], row[6], row[7])\n",
    "    csvFile.close()\n",
    "\n",
    "load_airports_pyDict('airport.csv')  "
   ]
  },
  {
   "cell_type": "code",
   "execution_count": 11,
   "metadata": {},
   "outputs": [
    {
     "name": "stdout",
     "output_type": "stream",
     "text": [
      "CPU times: user 3.38 s, sys: 11.4 ms, total: 3.39 s\n",
      "Wall time: 3.4 s\n"
     ]
    }
   ],
   "source": [
    "%%time\n",
    "#import all elements from csv\n",
    "myHash_dict_airports = HashTableLinear(5839) \n",
    "\n",
    "def load_airports_myHash(file):\n",
    "    '''loads airports info from file'''\n",
    "    with open(file, 'r') as csvFile:\n",
    "        reader = csv.reader(csvFile)\n",
    "        for row in reader:\n",
    "            myHash_dict_airports.put(row[4], (row[2], row[3], row[6], row[7]))\n",
    "    csvFile.close()\n",
    "\n",
    "load_airports_myHash('airport.csv') "
   ]
  },
  {
   "cell_type": "markdown",
   "metadata": {},
   "source": [
    "### testing size of the objects"
   ]
  },
  {
   "cell_type": "code",
   "execution_count": 12,
   "metadata": {},
   "outputs": [
    {
     "name": "stdout",
     "output_type": "stream",
     "text": [
      "size of Python dictionary:  2525536 bytes\n",
      "size of MyHash table:  2325240 bytes\n"
     ]
    }
   ],
   "source": [
    "print('size of Python dictionary: ', asizeof.asizeof(python_dict_airports), 'bytes')\n",
    "print('size of MyHash table: ',  asizeof.asizeof(myHash_dict_airports), 'bytes')"
   ]
  },
  {
   "cell_type": "markdown",
   "metadata": {},
   "source": [
    "### Testing selection time"
   ]
  },
  {
   "cell_type": "code",
   "execution_count": 13,
   "metadata": {},
   "outputs": [
    {
     "name": "stdout",
     "output_type": "stream",
     "text": [
      "CPU times: user 4 µs, sys: 0 ns, total: 4 µs\n",
      "Wall time: 9.06 µs\n"
     ]
    },
    {
     "data": {
      "text/plain": [
       "('Eufala', 'United States', '31.5708', '-85.0774')"
      ]
     },
     "execution_count": 13,
     "metadata": {},
     "output_type": "execute_result"
    }
   ],
   "source": [
    "%%time\n",
    "python_dict_airports['EUF']"
   ]
  },
  {
   "cell_type": "code",
   "execution_count": 14,
   "metadata": {},
   "outputs": [
    {
     "name": "stdout",
     "output_type": "stream",
     "text": [
      "CPU times: user 2.85 ms, sys: 16 µs, total: 2.86 ms\n",
      "Wall time: 2.94 ms\n"
     ]
    },
    {
     "data": {
      "text/plain": [
       "('Eufala', 'United States', '31.5708', '-85.0774')"
      ]
     },
     "execution_count": 14,
     "metadata": {},
     "output_type": "execute_result"
    }
   ],
   "source": [
    "%%time\n",
    "myHash_dict_airports.get('EUF')"
   ]
  },
  {
   "cell_type": "markdown",
   "metadata": {},
   "source": [
    "### Testing deletion time"
   ]
  },
  {
   "cell_type": "code",
   "execution_count": 15,
   "metadata": {},
   "outputs": [
    {
     "name": "stdout",
     "output_type": "stream",
     "text": [
      "CPU times: user 3 µs, sys: 0 ns, total: 3 µs\n",
      "Wall time: 6.2 µs\n"
     ]
    }
   ],
   "source": [
    "%%time\n",
    "del python_dict_airports['AAA']"
   ]
  },
  {
   "cell_type": "code",
   "execution_count": 16,
   "metadata": {},
   "outputs": [
    {
     "name": "stdout",
     "output_type": "stream",
     "text": [
      "CPU times: user 3.06 s, sys: 10.5 ms, total: 3.07 s\n",
      "Wall time: 3.08 s\n"
     ]
    }
   ],
   "source": [
    "%%time\n",
    "myHash_dict_airports.delete('AAA')"
   ]
  },
  {
   "cell_type": "code",
   "execution_count": 17,
   "metadata": {},
   "outputs": [
    {
     "data": {
      "text/plain": [
       "False"
      ]
     },
     "execution_count": 17,
     "metadata": {},
     "output_type": "execute_result"
    }
   ],
   "source": [
    "myHash_dict_airports.get('AAA')\n"
   ]
  },
  {
   "cell_type": "code",
   "execution_count": 18,
   "metadata": {},
   "outputs": [
    {
     "name": "stdout",
     "output_type": "stream",
     "text": [
      "CPU times: user 4 µs, sys: 0 ns, total: 4 µs\n",
      "Wall time: 9.06 µs\n"
     ]
    }
   ],
   "source": [
    "%%time\n",
    "del python_dict_airports['CON']"
   ]
  },
  {
   "cell_type": "code",
   "execution_count": 19,
   "metadata": {},
   "outputs": [
    {
     "name": "stdout",
     "output_type": "stream",
     "text": [
      "CPU times: user 653 ms, sys: 3.44 ms, total: 656 ms\n",
      "Wall time: 661 ms\n"
     ]
    }
   ],
   "source": [
    "%%time\n",
    "myHash_dict_airports.delete('CON')"
   ]
  },
  {
   "cell_type": "code",
   "execution_count": 20,
   "metadata": {},
   "outputs": [
    {
     "data": {
      "text/plain": [
       "False"
      ]
     },
     "execution_count": 20,
     "metadata": {},
     "output_type": "execute_result"
    }
   ],
   "source": [
    "myHash_dict_airports.get('CON')"
   ]
  },
  {
   "cell_type": "markdown",
   "metadata": {},
   "source": [
    "### We now implement chaining as a collision resolution method.\n",
    "\n",
    "We decide to test this implementation on larger csv file, the airport.csv file, the file contains 5835 entries and, the typical choice is to pick a $table size = number of keys / 4$ which is equal to 1459."
   ]
  },
  {
   "cell_type": "code",
   "execution_count": 21,
   "metadata": {},
   "outputs": [],
   "source": [
    "class HashTableChaining():\n",
    "\n",
    "    def __init__(self, size):\n",
    "        '''this method initialize a list with a given number of nested lists'''\n",
    "        self.size = size\n",
    "        self.table = [[] for _ in range(size)]\n",
    "    \n",
    "    def show(self):\n",
    "        print(self.table)\n",
    "        \n",
    "    def hashfunction(self, key,size):\n",
    "        '''compute hash value as in the linear implementation'''\n",
    "        if type(key) != int:\n",
    "            string = ''.join(key)\n",
    "            sum = 0\n",
    "            for i, ch in enumerate(string):\n",
    "                sum +=  ord(ch) * (i+1)\n",
    "            key = sum\n",
    "\n",
    "        return key%size\n",
    "        \n",
    "    def put(self,key,data):\n",
    "        '''insert key-value pair'''\n",
    "        #compute hashvalue\n",
    "        hashvalue = self.hashfunction(key,len(self.table))\n",
    "        #find the nested (chained) list\n",
    "        inner_list = self.table[hashvalue]\n",
    "        #assume that the key doesn't exist already\n",
    "        key_exists = False\n",
    "        #loop through the chain\n",
    "        for i, kv in enumerate(inner_list):\n",
    "            k, v = kv\n",
    "            #check if the key already exists in the table\n",
    "            if key == k:\n",
    "                key_exists = True\n",
    "                break\n",
    "        #if the key exists, replace the value\n",
    "        if key_exists:\n",
    "            inner_list[i] = ((key, data)) \n",
    "        #else add the key-value pair to the chained list\n",
    "        else:\n",
    "            inner_list.append((key, data)) #add\n",
    "            \n",
    "\n",
    "    def get(self,key):\n",
    "        '''this function return the value from a given key, returns False if the key is not in the table'''\n",
    "        #compute hashvalue\n",
    "        hashvalue = self.hashfunction(key,len(self.table))\n",
    "        #find the nested (chained) list\n",
    "        inner_list = self.table[hashvalue]\n",
    "        data = False\n",
    "        #loop through the chain\n",
    "        for i, kv in enumerate(inner_list):\n",
    "            k, v = kv\n",
    "            if key == k:\n",
    "                data = v\n",
    "        return data\n",
    "        \n",
    "    def delete(self, key):\n",
    "        '''this method deletes a key-value pair. The deletion in chaining is simpler as the key-value\n",
    "        pairs that come after the deleted one are not affected'''\n",
    "        #compute hashvalue\n",
    "        hashvalue = self.hashfunction(key,len(self.table))\n",
    "        #assume that the key doesn't exist\n",
    "        key_exists = False\n",
    "        #find the nested (chained) list\n",
    "        inner_list = self.table[hashvalue]\n",
    "        #loop through the chain\n",
    "        for i, kv in enumerate(inner_list):\n",
    "            k, v = kv\n",
    "            if key == k:\n",
    "                key_exists = True\n",
    "                break\n",
    "        #if the key exists, delete the elemtn containg key-value pair\n",
    "        if key_exists:\n",
    "            del inner_list[i] \n",
    "        else:\n",
    "            print (\"Error! no value for this key\")\n"
   ]
  },
  {
   "cell_type": "code",
   "execution_count": 22,
   "metadata": {},
   "outputs": [
    {
     "name": "stdout",
     "output_type": "stream",
     "text": [
      "[[], [], [], [], []]\n"
     ]
    }
   ],
   "source": [
    "MyHash = HashTableChaining(5)\n",
    "MyHash.show()"
   ]
  },
  {
   "cell_type": "code",
   "execution_count": 23,
   "metadata": {},
   "outputs": [
    {
     "name": "stdout",
     "output_type": "stream",
     "text": [
      "[[('AEO', '123'), ('UUU', '345'), ('ZZZ', 'NEW'), ('AAA', 'z')], [], [('AEI', 'sadf')], [], []]\n"
     ]
    }
   ],
   "source": [
    "MyHash.put('AEI', 'sadf')\n",
    "MyHash.put('AEO', '123')\n",
    "MyHash.put('UUU', '345')\n",
    "MyHash.put('ZZZ', 'NEW')\n",
    "MyHash.put('AAA', 'z')\n",
    "\n",
    "MyHash.show()"
   ]
  },
  {
   "cell_type": "code",
   "execution_count": 24,
   "metadata": {},
   "outputs": [
    {
     "data": {
      "text/plain": [
       "'z'"
      ]
     },
     "execution_count": 24,
     "metadata": {},
     "output_type": "execute_result"
    }
   ],
   "source": [
    "MyHash.get('AAA')"
   ]
  },
  {
   "cell_type": "code",
   "execution_count": 25,
   "metadata": {},
   "outputs": [
    {
     "name": "stdout",
     "output_type": "stream",
     "text": [
      "[[('AEO', '123'), ('ZZZ', 'NEW'), ('AAA', 'z')], [], [('AEI', 'sadf')], [], []]\n"
     ]
    }
   ],
   "source": [
    "MyHash.delete('UUU')\n",
    "MyHash.show()"
   ]
  },
  {
   "cell_type": "markdown",
   "metadata": {},
   "source": [
    "## Testing the implementation correct functionality against Python dictionary"
   ]
  },
  {
   "cell_type": "code",
   "execution_count": 26,
   "metadata": {},
   "outputs": [
    {
     "name": "stderr",
     "output_type": "stream",
     "text": [
      "test_delete_MyHash (__main__.test_MyHash) ... ok\n",
      "test_delete_Python (__main__.test_MyHash) ... ok\n",
      "test_get_MyHash (__main__.test_MyHash) ... ok\n",
      "test_get_Python (__main__.test_MyHash) ... ok\n",
      "test_put_MyHash (__main__.test_MyHash) ... ok\n",
      "test_put_Python (__main__.test_MyHash) ... ok\n",
      "\n",
      "----------------------------------------------------------------------\n",
      "Ran 6 tests in 0.006s\n",
      "\n",
      "OK\n"
     ]
    },
    {
     "data": {
      "text/plain": [
       "<unittest.main.TestProgram at 0x1140059e8>"
      ]
     },
     "execution_count": 26,
     "metadata": {},
     "output_type": "execute_result"
    }
   ],
   "source": [
    "import csv \n",
    "import unittest\n",
    "keys = [23, 9, 32, 88, 12]\n",
    "values = ['a', 'O', 'k', 'P', 'z']\n",
    "\n",
    "Python_dict = {}\n",
    "MyHash = HashTableChaining(2)\n",
    "\n",
    "class test_MyHash(unittest.TestCase):\n",
    "    \n",
    "    def test_put_Python(self):\n",
    "        Python_dict[23]='a'\n",
    "        Python_dict[9] = 'O'\n",
    "        self.assertIn(23, Python_dict)\n",
    "        self.assertIn(9, Python_dict)\n",
    "    \n",
    "    def test_put_MyHash(self):\n",
    "        MyHash.put(23, 'a')\n",
    "        MyHash.put(9,'O')\n",
    "        self.assertEqual(MyHash.get(23),'a')\n",
    "        self.assertEqual(MyHash.get(9), 'O')\n",
    "\n",
    "    def test_get_Python(self):\n",
    "        Python_dict[23]='a'\n",
    "        self.assertEqual(Python_dict[23], 'a')\n",
    "    \n",
    "    def test_get_MyHash(self):\n",
    "        MyHash.put(32, 'k')\n",
    "        MyHash.put(88,'P')\n",
    "        self.assertEqual(MyHash.get(32), 'k')\n",
    "        self.assertEqual(MyHash.get(88), 'P')\n",
    "\n",
    "    def test_delete_Python(self):\n",
    "        Python_dict[12]='z'\n",
    "        del Python_dict[12]\n",
    "        self.assertNotIn(12, Python_dict)\n",
    "        \n",
    "    def test_delete_MyHash(self):\n",
    "        MyHash.put(12,'z')\n",
    "        MyHash.delete(12)\n",
    "        self.assertNotIn('z', MyHash.table) \n",
    "        \n",
    "    \n",
    "unittest.main(argv=[''], verbosity=2, exit=False)"
   ]
  },
  {
   "cell_type": "markdown",
   "metadata": {},
   "source": [
    "### Testing import time"
   ]
  },
  {
   "cell_type": "code",
   "execution_count": 27,
   "metadata": {},
   "outputs": [
    {
     "name": "stdout",
     "output_type": "stream",
     "text": [
      "CPU times: user 409 µs, sys: 4 µs, total: 413 µs\n",
      "Wall time: 419 µs\n"
     ]
    }
   ],
   "source": [
    "%%time\n",
    "#insert one element\n",
    "python_dict_airports = {}\n",
    "python_dict_airports[123] = 'ABC'"
   ]
  },
  {
   "cell_type": "code",
   "execution_count": 28,
   "metadata": {},
   "outputs": [
    {
     "name": "stdout",
     "output_type": "stream",
     "text": [
      "CPU times: user 771 µs, sys: 62 µs, total: 833 µs\n",
      "Wall time: 839 µs\n"
     ]
    }
   ],
   "source": [
    "%%time\n",
    "#insert one element\n",
    "myHash_dict_airports = HashTableChaining(10) \n",
    "myHash_dict_airports.put(123, 'ABC')"
   ]
  },
  {
   "cell_type": "code",
   "execution_count": 29,
   "metadata": {},
   "outputs": [
    {
     "name": "stdout",
     "output_type": "stream",
     "text": [
      "CPU times: user 14.9 ms, sys: 2.69 ms, total: 17.6 ms\n",
      "Wall time: 15.3 ms\n"
     ]
    }
   ],
   "source": [
    "%%time\n",
    "#import all elements from csv\n",
    "python_dict_airports = {} \n",
    "\n",
    "def load_airports_pyDict(file):\n",
    "    '''loads airports info from file'''\n",
    "    with open(file, 'r') as csvFile:\n",
    "        reader = csv.reader(csvFile)\n",
    "        for row in reader:\n",
    "            python_dict_airports[row[4]] = (row[2], row[3], row[6], row[7])\n",
    "    csvFile.close()\n",
    "\n",
    "load_airports_pyDict('airport.csv')"
   ]
  },
  {
   "cell_type": "code",
   "execution_count": 30,
   "metadata": {},
   "outputs": [
    {
     "name": "stdout",
     "output_type": "stream",
     "text": [
      "CPU times: user 52.3 ms, sys: 3.49 ms, total: 55.8 ms\n",
      "Wall time: 54.4 ms\n"
     ]
    }
   ],
   "source": [
    "%%time\n",
    "#import all elements from csv\n",
    "myHash_dict_airports = HashTableChaining(1459) \n",
    "\n",
    "def load_airports_myHash(file):\n",
    "    '''loads airports info from file'''\n",
    "    with open(file, 'r') as csvFile:\n",
    "        reader = csv.reader(csvFile)\n",
    "        for row in reader:\n",
    "            myHash_dict_airports.put(row[4], (row[2], row[3], row[6], row[7]))\n",
    "    csvFile.close()\n",
    "\n",
    "load_airports_myHash('airport.csv') "
   ]
  },
  {
   "cell_type": "markdown",
   "metadata": {},
   "source": [
    "### testing size of the objects"
   ]
  },
  {
   "cell_type": "code",
   "execution_count": 31,
   "metadata": {},
   "outputs": [
    {
     "name": "stdout",
     "output_type": "stream",
     "text": [
      "size of Python dictionary:  2525536 bytes\n",
      "size of MyHash table:  2764352 bytes\n"
     ]
    }
   ],
   "source": [
    "print('size of Python dictionary: ', asizeof.asizeof(python_dict_airports), 'bytes')\n",
    "print('size of MyHash table: ',  asizeof.asizeof(myHash_dict_airports), 'bytes')"
   ]
  },
  {
   "cell_type": "markdown",
   "metadata": {},
   "source": [
    "### Testing selection time"
   ]
  },
  {
   "cell_type": "code",
   "execution_count": 32,
   "metadata": {},
   "outputs": [
    {
     "name": "stdout",
     "output_type": "stream",
     "text": [
      "CPU times: user 4 µs, sys: 1e+03 ns, total: 5 µs\n",
      "Wall time: 7.87 µs\n"
     ]
    },
    {
     "data": {
      "text/plain": [
       "('Eufala', 'United States', '31.5708', '-85.0774')"
      ]
     },
     "execution_count": 32,
     "metadata": {},
     "output_type": "execute_result"
    }
   ],
   "source": [
    "%%time\n",
    "python_dict_airports['EUF']"
   ]
  },
  {
   "cell_type": "code",
   "execution_count": 33,
   "metadata": {},
   "outputs": [
    {
     "name": "stdout",
     "output_type": "stream",
     "text": [
      "CPU times: user 35 µs, sys: 0 ns, total: 35 µs\n",
      "Wall time: 38.9 µs\n"
     ]
    },
    {
     "data": {
      "text/plain": [
       "('Eufala', 'United States', '31.5708', '-85.0774')"
      ]
     },
     "execution_count": 33,
     "metadata": {},
     "output_type": "execute_result"
    }
   ],
   "source": [
    "%%time\n",
    "myHash_dict_airports.get('EUF')"
   ]
  },
  {
   "cell_type": "markdown",
   "metadata": {},
   "source": [
    "### Testing deletion time"
   ]
  },
  {
   "cell_type": "code",
   "execution_count": 34,
   "metadata": {},
   "outputs": [
    {
     "name": "stdout",
     "output_type": "stream",
     "text": [
      "CPU times: user 5 µs, sys: 0 ns, total: 5 µs\n",
      "Wall time: 8.82 µs\n"
     ]
    }
   ],
   "source": [
    "%%time\n",
    "del python_dict_airports['MCO']"
   ]
  },
  {
   "cell_type": "code",
   "execution_count": 35,
   "metadata": {},
   "outputs": [
    {
     "name": "stdout",
     "output_type": "stream",
     "text": [
      "CPU times: user 31 µs, sys: 1 µs, total: 32 µs\n",
      "Wall time: 36.2 µs\n"
     ]
    }
   ],
   "source": [
    "%%time\n",
    "myHash_dict_airports.delete('MCO')"
   ]
  },
  {
   "cell_type": "code",
   "execution_count": 36,
   "metadata": {},
   "outputs": [
    {
     "data": {
      "text/plain": [
       "False"
      ]
     },
     "execution_count": 36,
     "metadata": {},
     "output_type": "execute_result"
    }
   ],
   "source": [
    "myHash_dict_airports.get('MCO')"
   ]
  },
  {
   "cell_type": "markdown",
   "metadata": {},
   "source": [
    "### Comparing implementations and Python data structure\n",
    "\n",
    "| Operations     | Python dict   | Linear probing implementation | Chaining implementation |\n",
    "|----------------|---------------|-------------------------------|-------------------------|\n",
    "|Insert (1 element)    |  6.91 µs      |    16 µs         |     17.9 µs    |\n",
    "|Insert (all elements)    | 16.6 ms      |    3.38 s         |     51.5 ms    |\n",
    "|Search          |  9.06 µs   | 2.95 ms  |  43.2 µs  |\n",
    "|Delete          | 9.78 µs | 3.06 s| 37 µs |\n",
    "|Memory Space (bytes)   |  2525536        |   2325240             | 2764352   |\n"
   ]
  },
  {
   "cell_type": "markdown",
   "metadata": {},
   "source": [
    "The <b>performance analysis</b> shows that the Python implementation has a lower time of execution for all the main operation of a dictionary.\n",
    "\n",
    "We can observe that the <b>chaining implementation</b> has worse, but similar, performances. \n",
    "\n",
    "On the other hand the <b>clinear probing implementation</b> has much worse perfomances for the operations of insert and delete. This is due to the fact that while adding a new value, if the key hashes to the same index, the algorithm needs to search for an available empty slot one position at the time. This can take a long time especially in a case like ours where we are dealing with thousands of entries. A similar issue affects also the operation of deletion. This because removing an item requires to rehash all the elements with greater indexes in order to make these elements discoverable using the searching algorithm that computes the hashvalue. \n",
    "\n",
    "In terms of <b>memory usage</b>, all three implementations have similar values. The linear probing implementation uses a slighly lower amount of memory (2.3Mb) compared to Python's dict (2.5Mb) and the chaining implementation (2.8Mb). This is probably due to the fact that all the data is stored in two separate lists and not in nested objects.\n",
    "\n",
    "<b>After these evaluations, we decided to use the native Python implementation of dictionaries to store the information contained in the csv files as it increases the speed of the algorithm.</b>"
   ]
  }
 ],
 "metadata": {
  "kernelspec": {
   "display_name": "Python 3",
   "language": "python",
   "name": "python3"
  },
  "language_info": {
   "codemirror_mode": {
    "name": "ipython",
    "version": 3
   },
   "file_extension": ".py",
   "mimetype": "text/x-python",
   "name": "python",
   "nbconvert_exporter": "python",
   "pygments_lexer": "ipython3",
   "version": "3.7.2"
  }
 },
 "nbformat": 4,
 "nbformat_minor": 2
}
